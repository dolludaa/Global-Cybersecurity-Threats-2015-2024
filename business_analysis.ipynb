{
 "cells": [
  {
   "cell_type": "raw",
   "metadata": {},
   "source": [
    "Cybersecurity Threats Analysis 2015–2024\n",
    "Goal: identify key trends, risks, and patterns in global cyberattacks from 2015 to 2024.\n",
    "\n",
    "Main questions:\n",
    "Which attack types are increasing over time?\n",
    "Which industries lose the most money?\n",
    "What sources are behind the attacks?\n",
    "Which defense methods reduce resolution time?\n",
    "\n",
    "Dataset overview:\n",
    "3,000 rows, 10 features\n",
    "Country, Year, Attack Type, Target Industry\n",
    "Financial Loss (Million USD), Affected Users\n",
    "Attack Source, Vulnerability Type\n",
    "Defense Used, Incident Resolution Time (hours)"
   ]
  },
  {
   "cell_type": "raw",
   "metadata": {
    "vscode": {
     "languageId": "plaintext"
    }
   },
   "source": [
    "Each row represents a single attack event.\n",
    "\n",
    "Country: the country where the incident occurred\n",
    "Year: the year when the attack took place\n",
    "Attack Type: the method used by the attackers, such as phishing, ransomware, or DDoS\n",
    "Target Industry: the sector targeted, including healthcare, banking, government, and others\n",
    "Financial Loss (in Million $): the estimated financial damage caused by the attack\n",
    "Number of Affected Users: the number of individuals or user accounts impacted\n",
    "Attack Source: the origin of the attack, such as nation-state, hacker group, insider, or unknown\n",
    "Security Vulnerability Type: the exploited weakness, such as unpatched software or weak passwords\n",
    "Defense Mechanism Used: the protection that was in place during the attack, such as firewall or antivirus\n",
    "Incident Resolution Time (in Hours): how long it took to respond and resolve the incident"
   ]
  },
  {
   "cell_type": "raw",
   "metadata": {},
   "source": [
    "Data Source: https://www.kaggle.com/datasets/atharvasoundankar/global-cybersecurity-threats-2015-2024"
   ]
  },
  {
   "cell_type": "code",
   "execution_count": null,
   "metadata": {},
   "outputs": [],
   "source": [
    "import pandas as pd\n",
    "import matplotlib.pyplot as plt\n",
    "import seaborn as sns\n",
    "import numpy as np\n",
    "\n",
    "df = pd.read_csv('Global_Cybersecurity_Threats_2015-2024.csv')\n",
    "df.head()\n"
   ]
  },
  {
   "cell_type": "markdown",
   "metadata": {},
   "source": [
    "### Chart 1. Number of Cyberattacks per Year"
   ]
  },
  {
   "cell_type": "code",
   "execution_count": null,
   "metadata": {},
   "outputs": [],
   "source": [
    "sns.set(style=\"whitegrid\")\n",
    "\n",
    "attack_counts = df['Year'].value_counts().sort_index()\n",
    "\n",
    "plt.figure(figsize=(10, 6))\n",
    "sns.barplot(x=attack_counts.index, y=attack_counts.values, palette=\"Blues_d\")\n",
    "plt.title(\"Number of Cyberattacks per Year\")\n",
    "plt.xlabel(\"Year\")\n",
    "plt.ylabel(\"Number of Attacks\")\n",
    "plt.xticks(rotation=45)\n",
    "plt.tight_layout()\n",
    "plt.show()\n"
   ]
  },
  {
   "cell_type": "code",
   "execution_count": null,
   "metadata": {},
   "outputs": [],
   "source": [
    "![Image Description](/Users/ludmiladolontaeva/Downloads/Unknown.png)\n",
    "\n",
    "The chart shows that the number of attacks increased each year from 2015 to 2024. This indicates a steady rise in global cyber threat activity.\n"
   ]
  },
  {
   "cell_type": "code",
   "execution_count": null,
   "metadata": {},
   "outputs": [],
   "source": [
    "## Analysis Section 2\n",
    "\n",
    "### Add your second analysis title here\n",
    "\n",
    "Write your second analysis description here...\n",
    "\n",
    "### Chart 2\n",
    "Add description of your second chart here...\n"
   ]
  },
  {
   "cell_type": "code",
   "execution_count": null,
   "metadata": {},
   "outputs": [],
   "source": [
    "# Add your second chart code here\n"
   ]
  },
  {
   "cell_type": "code",
   "execution_count": null,
   "metadata": {},
   "outputs": [],
   "source": [
    "## Conclusions\n",
    "\n",
    "### Key Findings\n",
    "1. Add your first key finding here\n",
    "2. Add your second key finding here\n",
    "3. Add your third key finding here\n",
    "\n",
    "### Business Recommendations\n",
    "1. Add your first recommendation here\n",
    "2. Add your second recommendation here\n",
    "3. Add your third recommendation here\n",
    "\n",
    "### Next Steps\n",
    "- Add your next steps here\n",
    "- Add any follow-up actions\n",
    "- Add future analysis plans\n"
   ]
  },
  {
   "cell_type": "code",
   "execution_count": null,
   "metadata": {},
   "outputs": [],
   "source": []
  },
  {
   "cell_type": "code",
   "execution_count": null,
   "metadata": {},
   "outputs": [],
   "source": []
  }
 ],
 "metadata": {
  "kernelspec": {
   "display_name": "Python 3 (ipykernel)",
   "language": "python",
   "name": "python3"
  },
  "language_info": {
   "codemirror_mode": {
    "name": "ipython",
    "version": 3
   },
   "file_extension": ".py",
   "mimetype": "text/x-python",
   "name": "python",
   "nbconvert_exporter": "python",
   "pygments_lexer": "ipython3",
   "version": "3.13.5"
  }
 },
 "nbformat": 4,
 "nbformat_minor": 4
}
